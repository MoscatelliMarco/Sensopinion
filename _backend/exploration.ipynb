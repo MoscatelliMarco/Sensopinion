{
 "cells": [
  {
   "cell_type": "markdown",
   "metadata": {},
   "source": [
    "### Analyze Emotions"
   ]
  },
  {
   "cell_type": "code",
   "execution_count": 13,
   "metadata": {},
   "outputs": [],
   "source": [
    "from textblob import TextBlob\n",
    "from transformers import pipeline\n",
    "from newsplease import NewsPlease\n",
    "import re\n",
    "import nltk"
   ]
  },
  {
   "cell_type": "code",
   "execution_count": 3,
   "metadata": {},
   "outputs": [
    {
     "name": "stderr",
     "output_type": "stream",
     "text": [
      "c:\\Users\\marco\\AppData\\Local\\Programs\\Python\\Python311\\Lib\\site-packages\\transformers\\pipelines\\text_classification.py:105: UserWarning: `return_all_scores` is now deprecated,  if want a similar functionality use `top_k=None` instead of `return_all_scores=True` or `top_k=1` instead of `return_all_scores=False`.\n",
      "  warnings.warn(\n",
      "c:\\Users\\marco\\AppData\\Local\\Programs\\Python\\Python311\\Lib\\site-packages\\transformers\\convert_slow_tokenizer.py:473: UserWarning: The sentencepiece tokenizer that you are converting to a fast tokenizer uses the byte fallback option which is not implemented in the fast tokenizers. In practice this means that the fast version of the tokenizer can produce unknown tokens whereas the sentencepiece version would have converted these unknown tokens into a sequence of byte tokens matching the original piece of text.\n",
      "  warnings.warn(\n"
     ]
    }
   ],
   "source": [
    "emotions_class = pipeline(\"text-classification\", model=\"j-hartmann/emotion-english-distilroberta-base\", return_all_scores=True)\n",
    "classes_class = pipeline(\"zero-shot-classification\", model=\"MoritzLaurer/mDeBERTa-v3-base-mnli-xnli\")"
   ]
  },
  {
   "cell_type": "code",
   "execution_count": 4,
   "metadata": {},
   "outputs": [],
   "source": [
    "article = NewsPlease.from_url(\"https://www.foxnews.com/politics/2023s-biggest-losers-politics\")"
   ]
  },
  {
   "cell_type": "code",
   "execution_count": 5,
   "metadata": {},
   "outputs": [
    {
     "data": {
      "text/plain": [
       "'Fox News Digital dove into the biggest winners and losers across all of U.S. politics for 2023.'"
      ]
     },
     "execution_count": 5,
     "metadata": {},
     "output_type": "execute_result"
    }
   ],
   "source": [
    "article.description"
   ]
  },
  {
   "cell_type": "code",
   "execution_count": 7,
   "metadata": {},
   "outputs": [],
   "source": [
    "article_text = article.maintext"
   ]
  },
  {
   "cell_type": "code",
   "execution_count": 8,
   "metadata": {},
   "outputs": [],
   "source": [
    "# Splitting the text into sentences\n",
    "sentences = re.split(r'(?<=[.!?])\\s+', article_text)\n",
    "\n",
    "# Creating a dictionary with the number of characters, words, and the content of each sentence\n",
    "sentence_dict = []\n",
    "for i, sentence in enumerate(sentences, 1):\n",
    "    words = sentence.split()\n",
    "    dict_append = {\n",
    "        'chars': len(sentence), \n",
    "        'words': len(words), \n",
    "        'content': sentence,\n",
    "        'emotions': {}\n",
    "    }\n",
    "    for item in emotions_class(sentence)[0]:\n",
    "        dict_append['emotions'][item['label']] = round(item['score'] * 100, 2)\n",
    "\n",
    "    sentence_dict.append(dict_append)"
   ]
  },
  {
   "cell_type": "code",
   "execution_count": 9,
   "metadata": {},
   "outputs": [],
   "source": [
    "emotion_sum_char = 0\n",
    "emotion_value = 0\n",
    "emotions_percentage = {}\n",
    "\n",
    "for emotion in ['anger', 'disgust', 'fear', 'joy', 'neutral', 'sadness', 'surprise']:\n",
    "    for sentence in sentence_dict:\n",
    "        emotion_value += sentence['chars'] * sentence['emotions'][emotion]\n",
    "        emotion_sum_char += sentence['chars']\n",
    "    emotions_percentage[emotion] = emotion_value / emotion_sum_char\n",
    "    emotion_value = 0\n",
    "    emotion_sum_char = 0"
   ]
  },
  {
   "cell_type": "code",
   "execution_count": 10,
   "metadata": {},
   "outputs": [
    {
     "data": {
      "text/plain": [
       "{'anger': 16.162651468474017,\n",
       " 'disgust': 14.191772437872258,\n",
       " 'fear': 4.404832614499898,\n",
       " 'joy': 1.713454508112549,\n",
       " 'neutral': 35.72483877592934,\n",
       " 'sadness': 23.450646950092416,\n",
       " 'surprise': 4.350221811460259}"
      ]
     },
     "execution_count": 10,
     "metadata": {},
     "output_type": "execute_result"
    }
   ],
   "source": [
    "emotions_percentage"
   ]
  },
  {
   "cell_type": "code",
   "execution_count": 11,
   "metadata": {},
   "outputs": [
    {
     "data": {
      "text/plain": [
       "99.99841856644075"
      ]
     },
     "execution_count": 11,
     "metadata": {},
     "output_type": "execute_result"
    }
   ],
   "source": [
    "sum_emotions = 0\n",
    "for i in emotions_percentage.values():\n",
    "    sum_emotions += i\n",
    "sum_emotions"
   ]
  },
  {
   "cell_type": "code",
   "execution_count": 15,
   "metadata": {},
   "outputs": [
    {
     "name": "stderr",
     "output_type": "stream",
     "text": [
      "[nltk_data] Downloading package punkt to\n",
      "[nltk_data]     C:\\Users\\marco\\AppData\\Roaming\\nltk_data...\n",
      "[nltk_data]   Package punkt is already up-to-date!\n"
     ]
    }
   ],
   "source": [
    "nltk.download('punkt')  # Required for the first time\n",
    "tokenizer = nltk.data.load('tokenizers/punkt/english.pickle')\n",
    "sentences = tokenizer.tokenize(article_text)"
   ]
  },
  {
   "cell_type": "code",
   "execution_count": 16,
   "metadata": {},
   "outputs": [],
   "source": [
    "for sentence in sentences:\n",
    "    if len(sentence) > 430:\n",
    "        print(sentence)\n",
    "        print(\"--------\")"
   ]
  },
  {
   "cell_type": "code",
   "execution_count": 17,
   "metadata": {},
   "outputs": [],
   "source": [
    "def split_into_sentences(text):\n",
    "    nltk.download('punkt')  # Required for the first time\n",
    "    tokenizer = nltk.data.load('tokenizers/punkt/english.pickle')\n",
    "    sentences = tokenizer.tokenize(text)\n",
    "    return sentences"
   ]
  },
  {
   "cell_type": "code",
   "execution_count": 18,
   "metadata": {},
   "outputs": [],
   "source": [
    "def balance_clusters(clusters):\n",
    "    # Define a threshold for when to redistribute (e.g., if the last cluster is less than half the average size)\n",
    "    average_size = sum(len(cluster) for cluster in clusters) / len(clusters)\n",
    "    min_size = average_size / 2\n",
    "\n",
    "    if len(clusters) > 1 and len(clusters[-1]) < min_size:\n",
    "        # Attempt to redistribute\n",
    "        last_cluster = clusters[-1].split()\n",
    "        prev_cluster = clusters[-2].split()\n",
    "\n",
    "        # While the last cluster is too short and the previous cluster has sentences to give\n",
    "        while len(' '.join(last_cluster)) < min_size and prev_cluster:\n",
    "            # Move the last sentence from the previous cluster to the beginning of the last cluster\n",
    "            last_cluster.insert(0, prev_cluster.pop())\n",
    "\n",
    "        # Update the clusters with the redistributed sentences\n",
    "        clusters[-2] = ' '.join(prev_cluster)\n",
    "        clusters[-1] = ' '.join(last_cluster)\n",
    "\n",
    "    return clusters"
   ]
  },
  {
   "cell_type": "code",
   "execution_count": 19,
   "metadata": {},
   "outputs": [],
   "source": [
    "def create_clusters(sentences):\n",
    "    clusters = []\n",
    "    current_cluster = \"\"\n",
    "\n",
    "    for sentence in sentences:\n",
    "        # Check if adding the next sentence would exceed the limit\n",
    "        if len(current_cluster) + len(sentence) > 512:\n",
    "            # If the current cluster is not empty, add it to clusters\n",
    "            if current_cluster:\n",
    "                clusters.append(current_cluster)\n",
    "            # Start a new cluster with the current sentence\n",
    "            current_cluster = sentence\n",
    "        else:\n",
    "            # Add a space if the cluster already has content\n",
    "            if current_cluster:\n",
    "                current_cluster += \" \"\n",
    "            current_cluster += sentence\n",
    "\n",
    "    # Don't forget to add the last cluster if it's not empty\n",
    "    if current_cluster:\n",
    "        clusters.append(current_cluster)\n",
    "\n",
    "    return clusters"
   ]
  },
  {
   "cell_type": "code",
   "execution_count": 20,
   "metadata": {},
   "outputs": [],
   "source": [
    "def process_text(article):\n",
    "    sentences = split_into_sentences(article)\n",
    "    initial_clusters = create_clusters(sentences)\n",
    "    balanced_clusters = balance_clusters(initial_clusters)\n",
    "    return balanced_clusters"
   ]
  },
  {
   "cell_type": "code",
   "execution_count": 21,
   "metadata": {},
   "outputs": [
    {
     "name": "stdout",
     "output_type": "stream",
     "text": [
      "Cluster 1: Competitiveness is a cornerstone of American polit...\n",
      "Cluster 2: The former Democratic mayor took the brunt of crit...\n",
      "Cluster 3: The parental rights-focused Republican governor wa...\n",
      "Cluster 4: VIRGINIA SENATE NAMES CAUCUS LEADERS FOR UPCOMING ...\n",
      "Cluster 5: She wound up losing the Richmond-area seat by less...\n",
      "Cluster 6: Her response to the crisis resulted in a formal Ho...\n",
      "Cluster 7: Santos’ backstory quickly unraveled when he got to...\n",
      "Cluster 8: Despite traveling the country touting key victorie...\n",
      "Cluster 9: KEVIN MCCARTHY, MATT GAETZ TRADE JABS AS FIERCE RI...\n",
      "Cluster 10: On Dec. 14, McCarthy was giving his final speech t...\n",
      "Cluster 11: CLICK HERE TO GET THE FOX NEWS APP McCarthy chalke...\n",
      "Cluster 12: again. He intends to remain a significant figure i...\n"
     ]
    },
    {
     "name": "stderr",
     "output_type": "stream",
     "text": [
      "[nltk_data] Downloading package punkt to\n",
      "[nltk_data]     C:\\Users\\marco\\AppData\\Roaming\\nltk_data...\n",
      "[nltk_data]   Package punkt is already up-to-date!\n"
     ]
    }
   ],
   "source": [
    "clusters = process_text(article_text)\n",
    "\n",
    "for i, cluster in enumerate(clusters, 1):\n",
    "    print(f\"Cluster {i}: {cluster[:50]}...\")  # Prints the first 50 chars of each cluster"
   ]
  },
  {
   "cell_type": "code",
   "execution_count": 22,
   "metadata": {},
   "outputs": [
    {
     "data": {
      "text/plain": [
       "'Competitiveness is a cornerstone of American politics, so much so that it’s been called a blood sport at times. And, as in any competition, winners and losers always emerge.\\nFox News Digital takes a look at some of the biggest political losers of 2023.\\nLori Lightfoot\\nFormer Chicago Mayor Lori Lightfoot\\'s re-election campaign, which culminated in her loss to current Mayor Brandon Johnson, was marked by several self-inflicted wounds.\\nThe former Democratic mayor took the brunt of criticism directed at city officials over the city\\'s rising rate of violent crime. Lightfoot also faced bipartisan blowback for her handling of the COVID-19 pandemic, including clashes with progressives and the teachers union.\\nOUTGOING HOUSE LAWMAKERS LAMENT CHAOS IN CONGRESS: \\'A BIT OF A CARNIVAL\\'\\nGlenn Youngkin\\nYoungkin’s upset victory in 2021 over former Virginia Gov. Terry McAuliffe set him on a path to political stardom. The parental rights-focused Republican governor was almost immediately touted as a future presidential candidate, even possibly as early as 2024.\\nBut he staked his national reputation on Republicans winning the full Virginia legislature in November, even suggesting a 15-week abortion limit would be on the table if the commonwealth went red.\\nDemocrats, however, ended up flipping the Virginia House of Delegates while retaining control of the state Senate.\\nVIRGINIA SENATE NAMES CAUCUS LEADERS FOR UPCOMING LEGISLATIVE SESSION\\nSusanna Gibson\\nOne Virginia Democrat who did not fare well in the latest election cycle, however, is Gibson, the nurse practitioner whose promising campaign for a swing seat in the House of Delegates was derailed by revelations laid bare just weeks before Election Day.\\nThe Washington Post first reported that Gibson and her husband broadcast sex acts on social media, accepting tips in exchange for lewd requests.\\nShe wound up losing the Richmond-area seat by less than 1,000 votes.\\nRashida Tlaib\\nRep. Tlaib, D-Mich., the only Palestinian-American in Congress, has long been a critical voice against the Israeli government, part of a small but growing faction of progressives bucking Democrats’ traditional pro-Israel stance.\\nHowever, she’s isolated herself this year after Hamas’ Oct. 7 surprise attack on Israel and Israel’s subsequent military response, going further than most with her reaction to the war in Gaza.\\nHer response to the crisis resulted in a formal House censure along bipartisan lines in November.\\nISRAEL RESUMES BOMBARDMENT OF GAZA AFTER CEASE-FIRE WITH HAMAS ENDS\\nGeorge Santos\\nEmbattled former House Rep. George Santos, R-N.Y., dominated headlines with an array of colorful scandals, from federal charges that included wire fraud to allegations he was responsible for the cancer death of a military veteran’s dog.\\nSantos’ backstory quickly unraveled when he got to Congress, and it was found he lied about his college degree, work and ancestry.\\nBut criminal charges related to misuse of campaign funds were the final nail in the coffin for Santos’ House career, and he was expelled by a two-thirds majority vote Dec. 1.\\nJoe Biden\\nThis year has seen the country’s octogenarian commander in chief dealing with an impeachment inquiry as he continues to struggle with low poll numbers.\\nDespite traveling the country touting key victories, mainly his bipartisan infrastructure bill, Biden is still working to convince voters he is fit for another four years in the White House.\\nIn addition to questions about his age and whether he profited from his role as vice president, Biden is also dealing with progressive outrage over his support for Israel in its war on Hamas.\\nKEVIN MCCARTHY, MATT GAETZ TRADE JABS AS FIERCE RIVALRY CONTINUES: HE \\'BELONGS IN JAIL\\'\\nIt’s culminated in early voter polls that show gloomy forecasts for his re-election prospects over the last several weeks.\\nKevin McCarthy\\nMcCarthy began his 2023 with a marathon 15 rounds of voting across three days, the world watching him wrangle a divided House GOP Conference to eventually win the speaker’s gavel.\\nOn Dec. 14, McCarthy was giving his final speech to a House floor filled with less than a dozen lawmakers, mostly his allies.\\nHe told reporters later that day it was a \"bittersweet\" ending to his career in Congress, which saw him make history in October as the first ousted speaker of the House. He announced in December he would leave Congress altogether.\\nCLICK HERE TO GET THE FOX NEWS APP\\nMcCarthy chalked it up to personal vendettas during a final exit interview with reporters later that day, but he remained optimistic.\\n\"I loved every minute, good or bad,\" he said.\\nBut while he made Fox News Digital’s list of 2023’s political losers, McCarthy could ascend again.\\nHe intends to remain a significant figure in the GOP fundraising sphere and is almost certain to be a hot commodity in Washington, D.C., for some time. He didn’t rule out a return to government either.'"
      ]
     },
     "execution_count": 22,
     "metadata": {},
     "output_type": "execute_result"
    }
   ],
   "source": [
    "article_text"
   ]
  },
  {
   "cell_type": "code",
   "execution_count": 23,
   "metadata": {},
   "outputs": [
    {
     "data": {
      "text/plain": [
       "Sentiment(polarity=0.0709758551307847, subjectivity=0.3669684775318579)"
      ]
     },
     "execution_count": 23,
     "metadata": {},
     "output_type": "execute_result"
    }
   ],
   "source": [
    "blob = TextBlob(article_text)\n",
    "\n",
    "blob.sentiment"
   ]
  },
  {
   "cell_type": "code",
   "execution_count": 25,
   "metadata": {},
   "outputs": [
    {
     "data": {
      "text/plain": [
       "({'sequence': 'Competitiveness is a cornerstone of American politics, so much so that it’s been called a blood sport at times. And, as in any competition, winners and losers always emerge.\\nFox News Digital takes a look at some of the biggest political losers of 2023.\\nLori Lightfoot\\nFormer Chicago Mayor Lori Lightfoot\\'s re-election campaign, which culminated in her loss to current Mayor Brandon Johnson, was marked by several self-inflicted wounds.\\nThe former Democratic mayor took the brunt of criticism directed at city officials over the city\\'s rising rate of violent crime. Lightfoot also faced bipartisan blowback for her handling of the COVID-19 pandemic, including clashes with progressives and the teachers union.\\nOUTGOING HOUSE LAWMAKERS LAMENT CHAOS IN CONGRESS: \\'A BIT OF A CARNIVAL\\'\\nGlenn Youngkin\\nYoungkin’s upset victory in 2021 over former Virginia Gov. Terry McAuliffe set him on a path to political stardom. The parental rights-focused Republican governor was almost immediately touted as a future presidential candidate, even possibly as early as 2024.\\nBut he staked his national reputation on Republicans winning the full Virginia legislature in November, even suggesting a 15-week abortion limit would be on the table if the commonwealth went red.\\nDemocrats, however, ended up flipping the Virginia House of Delegates while retaining control of the state Senate.\\nVIRGINIA SENATE NAMES CAUCUS LEADERS FOR UPCOMING LEGISLATIVE SESSION\\nSusanna Gibson\\nOne Virginia Democrat who did not fare well in the latest election cycle, however, is Gibson, the nurse practitioner whose promising campaign for a swing seat in the House of Delegates was derailed by revelations laid bare just weeks before Election Day.\\nThe Washington Post first reported that Gibson and her husband broadcast sex acts on social media, accepting tips in exchange for lewd requests.\\nShe wound up losing the Richmond-area seat by less than 1,000 votes.\\nRashida Tlaib\\nRep. Tlaib, D-Mich., the only Palestinian-American in Congress, has long been a critical voice against the Israeli government, part of a small but growing faction of progressives bucking Democrats’ traditional pro-Israel stance.\\nHowever, she’s isolated herself this year after Hamas’ Oct. 7 surprise attack on Israel and Israel’s subsequent military response, going further than most with her reaction to the war in Gaza.\\nHer response to the crisis resulted in a formal House censure along bipartisan lines in November.\\nISRAEL RESUMES BOMBARDMENT OF GAZA AFTER CEASE-FIRE WITH HAMAS ENDS\\nGeorge Santos\\nEmbattled former House Rep. George Santos, R-N.Y., dominated headlines with an array of colorful scandals, from federal charges that included wire fraud to allegations he was responsible for the cancer death of a military veteran’s dog.\\nSantos’ backstory quickly unraveled when he got to Congress, and it was found he lied about his college degree, work and ancestry.\\nBut criminal charges related to misuse of campaign funds were the final nail in the coffin for Santos’ House career, and he was expelled by a two-thirds majority vote Dec. 1.\\nJoe Biden\\nThis year has seen the country’s octogenarian commander in chief dealing with an impeachment inquiry as he continues to struggle with low poll numbers.\\nDespite traveling the country touting key victories, mainly his bipartisan infrastructure bill, Biden is still working to convince voters he is fit for another four years in the White House.\\nIn addition to questions about his age and whether he profited from his role as vice president, Biden is also dealing with progressive outrage over his support for Israel in its war on Hamas.\\nKEVIN MCCARTHY, MATT GAETZ TRADE JABS AS FIERCE RIVALRY CONTINUES: HE \\'BELONGS IN JAIL\\'\\nIt’s culminated in early voter polls that show gloomy forecasts for his re-election prospects over the last several weeks.\\nKevin McCarthy\\nMcCarthy began his 2023 with a marathon 15 rounds of voting across three days, the world watching him wrangle a divided House GOP Conference to eventually win the speaker’s gavel.\\nOn Dec. 14, McCarthy was giving his final speech to a House floor filled with less than a dozen lawmakers, mostly his allies.\\nHe told reporters later that day it was a \"bittersweet\" ending to his career in Congress, which saw him make history in October as the first ousted speaker of the House. He announced in December he would leave Congress altogether.\\nCLICK HERE TO GET THE FOX NEWS APP\\nMcCarthy chalked it up to personal vendettas during a final exit interview with reporters later that day, but he remained optimistic.\\n\"I loved every minute, good or bad,\" he said.\\nBut while he made Fox News Digital’s list of 2023’s political losers, McCarthy could ascend again.\\nHe intends to remain a significant figure in the GOP fundraising sphere and is almost certain to be a hot commodity in Washington, D.C., for some time. He didn’t rule out a return to government either.',\n",
       "  'labels': ['Politics', 'Others', 'Environment', 'Economy'],\n",
       "  'scores': [0.22573724389076233,\n",
       "   0.06678497791290283,\n",
       "   0.03043002262711525,\n",
       "   0.02511349879205227]},\n",
       " {'sequence': 'Fox News Digital dove into the biggest winners and losers across all of U.S. politics for 2023.',\n",
       "  'labels': ['Politics', 'Others', 'Environment', 'Economy'],\n",
       "  'scores': [0.9328294396400452,\n",
       "   0.0243037361651659,\n",
       "   0.005309328902512789,\n",
       "   0.004222622141242027]})"
      ]
     },
     "execution_count": 25,
     "metadata": {},
     "output_type": "execute_result"
    }
   ],
   "source": [
    "candidate_labels = [\"Politics\", \"Economy\", \"Environment\", 'Others']\n",
    "classes_class(article_text, candidate_labels, multi_label=True), classes_class(article.description, candidate_labels, multi_label=True)"
   ]
  },
  {
   "cell_type": "code",
   "execution_count": 26,
   "metadata": {},
   "outputs": [
    {
     "name": "stdout",
     "output_type": "stream",
     "text": [
      "Indices of elements in the cluster with higher data: [0]\n"
     ]
    }
   ],
   "source": [
    "from sklearn.cluster import KMeans\n",
    "import numpy as np\n",
    "\n",
    "candidate_labels = [\"Politics\", \"Economy\", \"Environment\", 'Others']\n",
    "\n",
    "output = classes_class(\n",
    "    '''\n",
    "    Machine Learning is a great job\n",
    "    '''\n",
    "    , candidate_labels, multi_label=True)\n",
    "\n",
    "data_train = np.array(output['scores']).reshape(-1, 1)\n",
    "\n",
    "kmeans = KMeans(n_clusters=2, n_init=10)\n",
    "\n",
    "# Fit the model\n",
    "kmeans.fit(data_train)\n",
    "\n",
    "# Cluster labels\n",
    "labels = kmeans.labels_\n",
    "\n",
    "# Calculate the average value of each cluster\n",
    "cluster_averages = [data_train[labels == i].mean() for i in range(2)]\n",
    "\n",
    "# Identify the cluster with the higher average value\n",
    "higher_avg_cluster = np.argmax(cluster_averages)\n",
    "\n",
    "# Indices of elements in the higher data cluster\n",
    "indices_higher_cluster = np.where(labels == higher_avg_cluster)[0]\n",
    "\n",
    "print(\"Indices of elements in the cluster with higher data:\", indices_higher_cluster)"
   ]
  },
  {
   "cell_type": "code",
   "execution_count": 27,
   "metadata": {},
   "outputs": [
    {
     "data": {
      "text/plain": [
       "{'sequence': '\\n    Machine Learning is a great job\\n    ',\n",
       " 'labels': ['Others', 'Economy', 'Environment', 'Politics'],\n",
       " 'scores': [0.020331770181655884,\n",
       "  0.0007957927300594747,\n",
       "  0.00040434286347590387,\n",
       "  0.00037566403625532985]}"
      ]
     },
     "execution_count": 27,
     "metadata": {},
     "output_type": "execute_result"
    }
   ],
   "source": [
    "output"
   ]
  },
  {
   "cell_type": "code",
   "execution_count": 32,
   "metadata": {},
   "outputs": [],
   "source": [
    "from sklearn.cluster import KMeans\n",
    "import numpy as np\n",
    "\n",
    "candidate_labels = [\"Politics\", \"Economy\", \"Environment\", 'Others']\n",
    "\n",
    "output = classes_class(\n",
    "    '''\n",
    "    Machine Learning is going to boom the would economy, especially data science and the new natural language processing models\n",
    "    '''\n",
    "    , candidate_labels, multi_label=True)\n",
    "\n",
    "data_train = np.array(output['scores']).reshape(-1, 1)\n",
    "\n",
    "kmeans = KMeans(n_clusters=2, n_init=10)\n",
    "\n",
    "# Fit the model\n",
    "kmeans.fit(data_train)\n",
    "\n",
    "# Cluster labels\n",
    "labels = kmeans.labels_\n",
    "\n",
    "# Calculate the average value of each cluster\n",
    "cluster_averages = [data_train[labels == i].mean() for i in range(2)]\n",
    "higher_avg_cluster = np.argmax(cluster_averages)\n",
    "indices_higher_cluster = np.where(labels == higher_avg_cluster)[0]\n",
    "\n",
    "index_low_cluster_start = indices_higher_cluster[-1] + 1\n",
    "valid = []\n",
    "MAX_SELECTED = 2\n",
    "for i, label in enumerate(output['labels']):\n",
    "    if i < index_low_cluster_start:\n",
    "        if i < MAX_SELECTED:\n",
    "            if label != \"Others\":\n",
    "                valid.append(label)\n",
    "            else:\n",
    "                break"
   ]
  },
  {
   "cell_type": "code",
   "execution_count": 33,
   "metadata": {},
   "outputs": [
    {
     "data": {
      "text/plain": [
       "(['Economy'],\n",
       " {'sequence': '\\n    Machine Learning is going to boom the would economy, especially data science and the new natural language processing models\\n    ',\n",
       "  'labels': ['Economy', 'Others', 'Environment', 'Politics'],\n",
       "  'scores': [0.5153793096542358,\n",
       "   0.012050898745656013,\n",
       "   0.00041549428715370595,\n",
       "   0.00041548116132616997]})"
      ]
     },
     "execution_count": 33,
     "metadata": {},
     "output_type": "execute_result"
    }
   ],
   "source": [
    "valid, output"
   ]
  },
  {
   "cell_type": "code",
   "execution_count": 120,
   "metadata": {},
   "outputs": [
    {
     "data": {
      "text/plain": [
       "{'sequence': '\\n    Machine Learning is a great job\\n    ',\n",
       " 'labels': ['Others', 'Economy', 'Environment', 'Politics'],\n",
       " 'scores': [0.020331770181655884,\n",
       "  0.0007957927300594747,\n",
       "  0.00040434286347590387,\n",
       "  0.00037566403625532985]}"
      ]
     },
     "execution_count": 120,
     "metadata": {},
     "output_type": "execute_result"
    }
   ],
   "source": [
    "output"
   ]
  },
  {
   "cell_type": "code",
   "execution_count": 122,
   "metadata": {},
   "outputs": [
    {
     "name": "stdout",
     "output_type": "stream",
     "text": [
      "No category\n"
     ]
    },
    {
     "name": "stderr",
     "output_type": "stream",
     "text": [
      "C:\\Users\\marco\\AppData\\Local\\Temp\\ipykernel_11328\\1259493301.py:34: DeprecationWarning: Calling nonzero on 0d arrays is deprecated, as it behaves surprisingly. Use `atleast_1d(cond).nonzero()` if the old behavior was intended. If the context of this warning is of the form `arr[nonzero(cond)]`, just use `arr[cond]`.\n",
      "  others_index = np.where(output['labels'] == 'Others')\n"
     ]
    }
   ],
   "source": [
    "from sklearn.cluster import KMeans\n",
    "import numpy as np\n",
    "\n",
    "candidate_labels = [\"Politics\", \"Economy\", \"Environment\", 'Others']\n",
    "\n",
    "output = classes_class(\n",
    "    '''\n",
    "    Machine Learning is a great job\n",
    "    '''\n",
    "    , candidate_labels, multi_label=True)\n",
    "\n",
    "data_train = np.array(output['scores']).reshape(-1, 1)\n",
    "\n",
    "kmeans = KMeans(n_clusters=2, n_init=10)\n",
    "\n",
    "# Fit the model\n",
    "kmeans.fit(data_train)\n",
    "\n",
    "# Cluster labels\n",
    "labels = kmeans.labels_\n",
    "\n",
    "# Calculate the average value of each cluster\n",
    "cluster_averages = [data_train[labels == i].mean() for i in range(2)]\n",
    "\n",
    "# Identify the cluster with the higher average value\n",
    "higher_avg_cluster = np.argmax(cluster_averages)\n",
    "\n",
    "# Indices of elements in the higher data cluster\n",
    "indices_higher_cluster = np.where(labels == higher_avg_cluster)[0]\n",
    "\n",
    "\n",
    "labels = np.array(output['labels'])\n",
    "scores = np.array(output['scores'])\n",
    "others_index = np.where(output['labels'] == 'Others')\n",
    "if labels[indices_higher_cluster][0] == \"Others\":\n",
    "    print(\"No category\")\n",
    "else:\n",
    "    for i in range(len(output['labels'])):\n",
    "        if \"Others\" in labels[indices_higher_cluster]:\n",
    "            if labels[np.argmax(scores[indices_higher_cluster])] == \"Others\":\n",
    "                print(\"No category, right cluster but argmax is Others\")"
   ]
  },
  {
   "cell_type": "code",
   "execution_count": 29,
   "metadata": {},
   "outputs": [],
   "source": [
    "candidate_labels_2 = [\n",
    "        \"Elections\",\n",
    "        \"International Relations\",\n",
    "        \"Policy Reforms\",\n",
    "        \"Legislation\",\n",
    "        \"Civil Right\",\n",
    "        \"Defense And Security\",\n",
    "        \"Local Governance\",\n",
    "        \"Politics Scandals\",\n",
    "        \"Public Opinion\",\n",
    "        \"Others\"\n",
    "    ]"
   ]
  },
  {
   "cell_type": "code",
   "execution_count": 30,
   "metadata": {},
   "outputs": [
    {
     "data": {
      "text/plain": [
       "{'sequence': 'Fox News Digital dove into the biggest winners and losers across all of U.S. politics for 2023.',\n",
       " 'labels': ['Elections',\n",
       "  'Politics Scandals',\n",
       "  'Public Opinion',\n",
       "  'Civil Right',\n",
       "  'International Relations',\n",
       "  'Legislation',\n",
       "  'Policy Reforms',\n",
       "  'Local Governance',\n",
       "  'Defense And Security',\n",
       "  'Others'],\n",
       " 'scores': [0.8337013721466064,\n",
       "  0.2731260657310486,\n",
       "  0.15489423274993896,\n",
       "  0.15332864224910736,\n",
       "  0.12546394765377045,\n",
       "  0.08624298125505447,\n",
       "  0.08240915089845657,\n",
       "  0.061972975730895996,\n",
       "  0.060514532029628754,\n",
       "  0.0243037361651659]}"
      ]
     },
     "execution_count": 30,
     "metadata": {},
     "output_type": "execute_result"
    }
   ],
   "source": [
    "classes_class(article.description, candidate_labels_2, multi_label=True)"
   ]
  },
  {
   "cell_type": "markdown",
   "metadata": {},
   "source": [
    "## Download models"
   ]
  },
  {
   "cell_type": "code",
   "execution_count": 54,
   "metadata": {},
   "outputs": [
    {
     "data": {
      "text/plain": [
       "('./models/classes_classifier\\\\tokenizer_config.json',\n",
       " './models/classes_classifier\\\\special_tokens_map.json',\n",
       " './models/classes_classifier\\\\spm.model',\n",
       " './models/classes_classifier\\\\added_tokens.json',\n",
       " './models/classes_classifier\\\\tokenizer.json')"
      ]
     },
     "execution_count": 54,
     "metadata": {},
     "output_type": "execute_result"
    }
   ],
   "source": [
    "emotions_class.model.save_pretrained('./models/emotions_classifier')\n",
    "emotions_class.tokenizer.save_pretrained('./models/emotions_classifier')\n",
    "\n",
    "classes_class.model.save_pretrained('./models/classes_classifier')\n",
    "classes_class.tokenizer.save_pretrained('./models/classes_classifier')"
   ]
  },
  {
   "cell_type": "code",
   "execution_count": 55,
   "metadata": {},
   "outputs": [],
   "source": [
    "from transformers import AutoModelForSequenceClassification, AutoTokenizer\n",
    "\n",
    "# Load the emotion classification model\n",
    "emotion_model_path = './models/emotions_classifier'\n",
    "\n",
    "# Load the zero-shot classification model\n",
    "classification_model_path = './models/classes_classifier'"
   ]
  },
  {
   "cell_type": "code",
   "execution_count": 58,
   "metadata": {},
   "outputs": [
    {
     "name": "stderr",
     "output_type": "stream",
     "text": [
      "c:\\Users\\marco\\AppData\\Local\\Programs\\Python\\Python311\\Lib\\site-packages\\transformers\\pipelines\\text_classification.py:105: UserWarning: `return_all_scores` is now deprecated,  if want a similar functionality use `top_k=None` instead of `return_all_scores=True` or `top_k=1` instead of `return_all_scores=False`.\n",
      "  warnings.warn(\n"
     ]
    }
   ],
   "source": [
    "from transformers import AutoModelForSequenceClassification, AutoTokenizer\n",
    "\n",
    "emotion_tokenizer = AutoTokenizer.from_pretrained(emotion_model_path)\n",
    "emotion_model = AutoModelForSequenceClassification.from_pretrained(emotion_model_path)\n",
    "emotions_class = pipeline(\"text-classification\", model=emotion_model, tokenizer=emotion_tokenizer, return_all_scores=True)\n",
    "\n",
    "classification_tokenizer = AutoTokenizer.from_pretrained(classification_model_path)\n",
    "classification_model = AutoModelForSequenceClassification.from_pretrained(classification_model_path)\n",
    "classes_class = pipeline(\"zero-shot-classification\", model=classification_model, tokenizer=classification_tokenizer)\n"
   ]
  },
  {
   "cell_type": "code",
   "execution_count": 86,
   "metadata": {},
   "outputs": [
    {
     "data": {
      "text/plain": [
       "(datetime.datetime(2023, 12, 24, 17, 1, 20),\n",
       " datetime.datetime(2023, 12, 24, 6, 24, 9))"
      ]
     },
     "execution_count": 86,
     "metadata": {},
     "output_type": "execute_result"
    }
   ],
   "source": [
    "article.date_download, article.date_publish"
   ]
  },
  {
   "cell_type": "code",
   "execution_count": 84,
   "metadata": {},
   "outputs": [
    {
     "data": {
      "text/plain": [
       "['__subclasshook__',\n",
       " '__weakref__',\n",
       " 'authors',\n",
       " 'date_download',\n",
       " 'date_modify',\n",
       " 'date_publish',\n",
       " 'description',\n",
       " 'filename',\n",
       " 'get_dict',\n",
       " 'get_serializable_dict',\n",
       " 'image_url',\n",
       " 'language',\n",
       " 'localpath',\n",
       " 'maintext',\n",
       " 'source_domain',\n",
       " 'text',\n",
       " 'title',\n",
       " 'title_page',\n",
       " 'title_rss',\n",
       " 'url']"
      ]
     },
     "execution_count": 84,
     "metadata": {},
     "output_type": "execute_result"
    }
   ],
   "source": [
    "dir(article)[-20:]"
   ]
  },
  {
   "cell_type": "markdown",
   "metadata": {},
   "source": [
    "## NewsScraper"
   ]
  },
  {
   "cell_type": "code",
   "execution_count": null,
   "metadata": {},
   "outputs": [],
   "source": [
    "article = NewsPlease.from_url(\"https://www.npr.org/2023/12/22/1221230635/japan-alleged-political-corruption-ldp-slush-fund\")"
   ]
  },
  {
   "cell_type": "code",
   "execution_count": 77,
   "metadata": {},
   "outputs": [
    {
     "name": "stdout",
     "output_type": "stream",
     "text": [
      "https://www.bbc.com/news/world-middle-east-67814475\n",
      "https://www.wsj.com/world/middle-east/israeli-soldier-death-toll-grows-as-hamas-shifts-to-guerilla-attacks-dee2bc9b\n",
      "https://www.timesofisrael.com/idf-says-8-more-soldiers-killed-amid-heavy-fighting-in-south-central-gaza-saturday/\n",
      "https://www.nytimes.com/live/2023/12/24/world/israel-hamas-war-gaza-news\n",
      "https://www.clickorlando.com/news/local/2023/12/24/victim-idd-person-of-interest-revealed-after-deadly-shooting-at-mall-in-ocala/\n",
      "https://www.fox35orlando.com/news/active-shooter-reported-at-ocala-mall-police-say\n",
      "https://www.usatoday.com/story/news/nation/2023/12/24/shooting-erupts-ocala-florida-mall/72024171007/\n",
      "https://www.orlandosentinel.com/2023/12/23/a-man-is-killed-and-a-woman-injured-in-a-targeted-afternoon-shooting-at-a-florida-shopping-mall/\n",
      "https://thehill.com/policy/defense/4375673-iranian-drone-struck-chemical-tanker-in-indian-ocean-pentagon/\n",
      "https://apnews.com/article/bethlehem-christmas-israel-hamas-war-e408a3e48d18c69a7a0b018505cdc732\n"
     ]
    }
   ],
   "source": [
    "import requests\n",
    "from bs4 import BeautifulSoup\n",
    "from urllib.parse import urlparse, parse_qs\n",
    "\n",
    "# URL of the Google News page you want to scrape\n",
    "url = 'https://news.google.com/topstories?hl=en-US&gl=US&ceid=US:en'\n",
    "\n",
    "# Headers to simulate a real user visit\n",
    "headers = {\n",
    "    'User-Agent': 'Mozilla/5.0 (Windows NT 10.0; Win64; x64) AppleWebKit/537.36 (KHTML, like Gecko) Chrome/58.0.3029.110 Safari/537.3'}\n",
    "\n",
    "response = requests.get(url, headers=headers)\n",
    "\n",
    "soup = BeautifulSoup(response.text, 'html.parser')\n",
    "\n",
    "for link in soup.find_all('article'):\n",
    "    a_tag = link.find('a', href=True)\n",
    "    if a_tag and 'href' in a_tag.attrs:\n",
    "        # Get the partial URL\n",
    "        partial_url = a_tag.attrs['href']\n",
    "        # Construct the full Google News URL\n",
    "        google_news_url = f'https://news.google.com{partial_url}'\n",
    "\n",
    "        response = requests.get(google_news_url, allow_redirects=True, timeout=10)\n",
    "        \n",
    "        # Get the final URL after redirection\n",
    "        final_url = response.url\n",
    "        \n",
    "        print(final_url)"
   ]
  },
  {
   "cell_type": "code",
   "execution_count": 78,
   "metadata": {},
   "outputs": [],
   "source": [
    "article = NewsPlease.from_url(\"https://www.bbc.com/news/world-middle-east-67814475\")"
   ]
  },
  {
   "cell_type": "code",
   "execution_count": 82,
   "metadata": {},
   "outputs": [
    {
     "data": {
      "text/plain": [
       "'The Israeli PM says his troops will keep fighting - after one of their deadliest days of the conflict.'"
      ]
     },
     "execution_count": 82,
     "metadata": {},
     "output_type": "execute_result"
    }
   ],
   "source": [
    "article.description"
   ]
  },
  {
   "cell_type": "code",
   "execution_count": null,
   "metadata": {},
   "outputs": [],
   "source": []
  }
 ],
 "metadata": {
  "kernelspec": {
   "display_name": "Python 3.11.4 64-bit",
   "language": "python",
   "name": "python3"
  },
  "language_info": {
   "codemirror_mode": {
    "name": "ipython",
    "version": 3
   },
   "file_extension": ".py",
   "mimetype": "text/x-python",
   "name": "python",
   "nbconvert_exporter": "python",
   "pygments_lexer": "ipython3",
   "version": "3.11.4"
  },
  "orig_nbformat": 4,
  "vscode": {
   "interpreter": {
    "hash": "e0460f6db6993a86a65738508dba0aca00af9523ba4143ef22f5162384401bb1"
   }
  }
 },
 "nbformat": 4,
 "nbformat_minor": 2
}
