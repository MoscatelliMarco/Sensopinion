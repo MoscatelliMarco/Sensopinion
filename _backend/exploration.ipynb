{
 "cells": [
  {
   "cell_type": "markdown",
   "metadata": {},
   "source": [
    "### Analyze Emotions"
   ]
  },
  {
   "cell_type": "code",
   "execution_count": 25,
   "metadata": {},
   "outputs": [],
   "source": [
    "from textblob import TextBlob\n",
    "from transformers import pipeline\n",
    "from newsplease import NewsPlease\n",
    "import re"
   ]
  },
  {
   "cell_type": "code",
   "execution_count": 26,
   "metadata": {},
   "outputs": [
    {
     "name": "stderr",
     "output_type": "stream",
     "text": [
      "c:\\Users\\marco\\AppData\\Local\\Programs\\Python\\Python311\\Lib\\site-packages\\transformers\\pipelines\\text_classification.py:105: UserWarning: `return_all_scores` is now deprecated,  if want a similar functionality use `top_k=None` instead of `return_all_scores=True` or `top_k=1` instead of `return_all_scores=False`.\n",
      "  warnings.warn(\n",
      "c:\\Users\\marco\\AppData\\Local\\Programs\\Python\\Python311\\Lib\\site-packages\\transformers\\convert_slow_tokenizer.py:473: UserWarning: The sentencepiece tokenizer that you are converting to a fast tokenizer uses the byte fallback option which is not implemented in the fast tokenizers. In practice this means that the fast version of the tokenizer can produce unknown tokens whereas the sentencepiece version would have converted these unknown tokens into a sequence of byte tokens matching the original piece of text.\n",
      "  warnings.warn(\n"
     ]
    }
   ],
   "source": [
    "emotions_class = pipeline(\"text-classification\", model=\"j-hartmann/emotion-english-distilroberta-base\", return_all_scores=True)\n",
    "classes_class = pipeline(\"zero-shot-classification\", model=\"MoritzLaurer/mDeBERTa-v3-base-mnli-xnli\")"
   ]
  },
  {
   "cell_type": "code",
   "execution_count": 27,
   "metadata": {},
   "outputs": [],
   "source": [
    "article = NewsPlease.from_url(\"https://www.npr.org/2023/12/22/1221230635/japan-alleged-political-corruption-ldp-slush-fund\")"
   ]
  },
  {
   "cell_type": "code",
   "execution_count": 28,
   "metadata": {},
   "outputs": [
    {
     "data": {
      "text/plain": [
       "\"Japan's governing Liberal Democratic Party replaced two of its top executives as part of a purge related to investigations into alleged political slush funds.\""
      ]
     },
     "execution_count": 28,
     "metadata": {},
     "output_type": "execute_result"
    }
   ],
   "source": [
    "article.description"
   ]
  },
  {
   "cell_type": "code",
   "execution_count": 29,
   "metadata": {},
   "outputs": [],
   "source": [
    "article_text = article.title + \"\\n\" + article.maintext"
   ]
  },
  {
   "cell_type": "code",
   "execution_count": 30,
   "metadata": {},
   "outputs": [],
   "source": [
    "# Splitting the text into sentences\n",
    "sentences = re.split(r'(?<=[.!?])\\s+', article_text)\n",
    "\n",
    "# Creating a dictionary with the number of characters, words, and the content of each sentence\n",
    "sentence_dict = []\n",
    "for i, sentence in enumerate(sentences, 1):\n",
    "    words = sentence.split()\n",
    "    dict_append = {\n",
    "        'chars': len(sentence), \n",
    "        'words': len(words), \n",
    "        'content': sentence,\n",
    "        'emotions': {}\n",
    "    }\n",
    "    for item in emotions_class(sentence)[0]:\n",
    "        dict_append['emotions'][item['label']] = round(item['score'] * 100, 2)\n",
    "\n",
    "    sentence_dict.append(dict_append)"
   ]
  },
  {
   "cell_type": "code",
   "execution_count": 31,
   "metadata": {},
   "outputs": [],
   "source": [
    "emotion_sum_char = 0\n",
    "emotion_value = 0\n",
    "emotions_percentage = {}\n",
    "\n",
    "for emotion in ['anger', 'disgust', 'fear', 'joy', 'neutral', 'sadness', 'surprise']:\n",
    "    for sentence in sentence_dict:\n",
    "        emotion_value += sentence['chars'] * sentence['emotions'][emotion]\n",
    "        emotion_sum_char += sentence['chars']\n",
    "    emotions_percentage[emotion] = emotion_value / emotion_sum_char\n",
    "    emotion_value = 0\n",
    "    emotion_sum_char = 0"
   ]
  },
  {
   "cell_type": "code",
   "execution_count": 32,
   "metadata": {},
   "outputs": [
    {
     "data": {
      "text/plain": [
       "{'anger': 12.074123116979731,\n",
       " 'disgust': 25.135253859029195,\n",
       " 'fear': 3.9958601450623035,\n",
       " 'joy': 1.4329570392412125,\n",
       " 'neutral': 49.124999070113454,\n",
       " 'sadness': 7.03720104147294,\n",
       " 'surprise': 1.2025813650734611}"
      ]
     },
     "execution_count": 32,
     "metadata": {},
     "output_type": "execute_result"
    }
   ],
   "source": [
    "emotions_percentage"
   ]
  },
  {
   "cell_type": "code",
   "execution_count": 33,
   "metadata": {},
   "outputs": [
    {
     "data": {
      "text/plain": [
       "100.00297563697228"
      ]
     },
     "execution_count": 33,
     "metadata": {},
     "output_type": "execute_result"
    }
   ],
   "source": [
    "sum_emotions = 0\n",
    "for i in emotions_percentage.values():\n",
    "    sum_emotions += i\n",
    "sum_emotions"
   ]
  },
  {
   "cell_type": "code",
   "execution_count": 34,
   "metadata": {},
   "outputs": [
    {
     "data": {
      "text/plain": [
       "Sentiment(polarity=-0.0023160173160173144, subjectivity=0.39767316017316023)"
      ]
     },
     "execution_count": 34,
     "metadata": {},
     "output_type": "execute_result"
    }
   ],
   "source": [
    "blob = TextBlob(article_text)\n",
    "\n",
    "blob.sentiment"
   ]
  },
  {
   "cell_type": "code",
   "execution_count": null,
   "metadata": {},
   "outputs": [],
   "source": []
  },
  {
   "cell_type": "code",
   "execution_count": 39,
   "metadata": {},
   "outputs": [
    {
     "data": {
      "text/plain": [
       "([0.3441440463066101, 0.2618587613105774, 0.21763548254966736],\n",
       " [0.8734523057937622, 0.257985383272171, 0.15992116928100586])"
      ]
     },
     "execution_count": 39,
     "metadata": {},
     "output_type": "execute_result"
    }
   ],
   "source": [
    "candidate_labels = [\"Politics\", \"Economy\", \"Finance\"]\n",
    "classes_class(article_text, candidate_labels, multi_label=True)['scores'], classes_class(article.description, candidate_labels, multi_label=True)['scores']"
   ]
  },
  {
   "cell_type": "code",
   "execution_count": 40,
   "metadata": {},
   "outputs": [
    {
     "data": {
      "text/plain": [
       "[0.4883885383605957,\n",
       " 0.3972182273864746,\n",
       " 0.21122926473617554,\n",
       " 0.20946666598320007,\n",
       " 0.2053522765636444,\n",
       " 0.20320242643356323,\n",
       " 0.20069660246372223,\n",
       " 0.19288396835327148,\n",
       " 0.19221828877925873,\n",
       " 0.17076162993907928]"
      ]
     },
     "execution_count": 40,
     "metadata": {},
     "output_type": "execute_result"
    }
   ],
   "source": [
    "candidate_labels_2 = [\"Elections\", \"International Relations\", \"Policy Reforms\", \"Legislation\", \"Civil Right\", \"Defense And Security\", \"Local Governance\", \"Politics Scandals\", \"Public Opinion\", \"Political Parties\", \"Global Economy\", \"Stock Market\", \"Banking\", \"Real Estate\", \"Cryptocurrencies\", \"Personal Finance\", \"Insurance\", \"Taxation\", \"Corporate Finance\", \"Economic Policies\", \"Climate Change\", \"Renewable Energy\", \"Wildlife\", \"Pollution\", \"Sustainable Living\", \"Natural Disasters\", \"Agriculture\", \"Water Resources\", \"Environment Laws\", \"Biodiversity\"]\n",
    "\n",
    "classes_class(article_text, candidate_labels_2[:10], multi_label=True)['scores']"
   ]
  },
  {
   "cell_type": "code",
   "execution_count": 41,
   "metadata": {},
   "outputs": [
    {
     "data": {
      "text/plain": [
       "[0.9211400151252747,\n",
       " 0.6830674409866333,\n",
       " 0.2604702413082123,\n",
       " 0.1896524429321289,\n",
       " 0.16527467966079712,\n",
       " 0.1205194815993309,\n",
       " 0.09266605228185654,\n",
       " 0.07585158944129944,\n",
       " 0.017313361167907715,\n",
       " 0.006902643013745546]"
      ]
     },
     "execution_count": 41,
     "metadata": {},
     "output_type": "execute_result"
    }
   ],
   "source": [
    "classes_class(article.description, candidate_labels_2[:10], multi_label=True)['scores']"
   ]
  },
  {
   "cell_type": "markdown",
   "metadata": {},
   "source": [
    "## Download models"
   ]
  },
  {
   "cell_type": "code",
   "execution_count": 54,
   "metadata": {},
   "outputs": [
    {
     "data": {
      "text/plain": [
       "('./models/classes_classifier\\\\tokenizer_config.json',\n",
       " './models/classes_classifier\\\\special_tokens_map.json',\n",
       " './models/classes_classifier\\\\spm.model',\n",
       " './models/classes_classifier\\\\added_tokens.json',\n",
       " './models/classes_classifier\\\\tokenizer.json')"
      ]
     },
     "execution_count": 54,
     "metadata": {},
     "output_type": "execute_result"
    }
   ],
   "source": [
    "emotions_class.model.save_pretrained('./models/emotions_classifier')\n",
    "emotions_class.tokenizer.save_pretrained('./models/emotions_classifier')\n",
    "\n",
    "classes_class.model.save_pretrained('./models/classes_classifier')\n",
    "classes_class.tokenizer.save_pretrained('./models/classes_classifier')"
   ]
  },
  {
   "cell_type": "code",
   "execution_count": 55,
   "metadata": {},
   "outputs": [],
   "source": [
    "from transformers import AutoModelForSequenceClassification, AutoTokenizer\n",
    "\n",
    "# Load the emotion classification model\n",
    "emotion_model_path = './models/emotions_classifier'\n",
    "\n",
    "# Load the zero-shot classification model\n",
    "classification_model_path = './models/classes_classifier'"
   ]
  },
  {
   "cell_type": "code",
   "execution_count": 58,
   "metadata": {},
   "outputs": [
    {
     "name": "stderr",
     "output_type": "stream",
     "text": [
      "c:\\Users\\marco\\AppData\\Local\\Programs\\Python\\Python311\\Lib\\site-packages\\transformers\\pipelines\\text_classification.py:105: UserWarning: `return_all_scores` is now deprecated,  if want a similar functionality use `top_k=None` instead of `return_all_scores=True` or `top_k=1` instead of `return_all_scores=False`.\n",
      "  warnings.warn(\n"
     ]
    }
   ],
   "source": [
    "from transformers import AutoModelForSequenceClassification, AutoTokenizer\n",
    "\n",
    "emotion_tokenizer = AutoTokenizer.from_pretrained(emotion_model_path)\n",
    "emotion_model = AutoModelForSequenceClassification.from_pretrained(emotion_model_path)\n",
    "emotions_class = pipeline(\"text-classification\", model=emotion_model, tokenizer=emotion_tokenizer, return_all_scores=True)\n",
    "\n",
    "classification_tokenizer = AutoTokenizer.from_pretrained(classification_model_path)\n",
    "classification_model = AutoModelForSequenceClassification.from_pretrained(classification_model_path)\n",
    "classes_class = pipeline(\"zero-shot-classification\", model=classification_model, tokenizer=classification_tokenizer)\n"
   ]
  },
  {
   "cell_type": "code",
   "execution_count": 57,
   "metadata": {},
   "outputs": [
    {
     "data": {
      "text/plain": [
       "{'sequence': 'I am shocked',\n",
       " 'labels': ['surprise', 'sad', 'happiness'],\n",
       " 'scores': [0.9425114393234253, 0.050712697207927704, 0.006775845307856798]}"
      ]
     },
     "execution_count": 57,
     "metadata": {},
     "output_type": "execute_result"
    }
   ],
   "source": [
    "classes_class(\"I am shocked\", ['happiness', 'surprise', 'sad'])"
   ]
  },
  {
   "cell_type": "code",
   "execution_count": null,
   "metadata": {},
   "outputs": [],
   "source": []
  },
  {
   "cell_type": "markdown",
   "metadata": {},
   "source": [
    "## NewsScraper"
   ]
  },
  {
   "cell_type": "code",
   "execution_count": null,
   "metadata": {},
   "outputs": [],
   "source": [
    "article = NewsPlease.from_url(\"https://www.npr.org/2023/12/22/1221230635/japan-alleged-political-corruption-ldp-slush-fund\")"
   ]
  },
  {
   "cell_type": "code",
   "execution_count": null,
   "metadata": {},
   "outputs": [],
   "source": []
  }
 ],
 "metadata": {
  "kernelspec": {
   "display_name": "Python 3.11.4 64-bit",
   "language": "python",
   "name": "python3"
  },
  "language_info": {
   "codemirror_mode": {
    "name": "ipython",
    "version": 3
   },
   "file_extension": ".py",
   "mimetype": "text/x-python",
   "name": "python",
   "nbconvert_exporter": "python",
   "pygments_lexer": "ipython3",
   "version": "3.11.4"
  },
  "orig_nbformat": 4,
  "vscode": {
   "interpreter": {
    "hash": "e0460f6db6993a86a65738508dba0aca00af9523ba4143ef22f5162384401bb1"
   }
  }
 },
 "nbformat": 4,
 "nbformat_minor": 2
}
