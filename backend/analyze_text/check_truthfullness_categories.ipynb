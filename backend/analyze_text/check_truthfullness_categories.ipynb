{
 "cells": [
  {
   "cell_type": "code",
   "execution_count": 2,
   "metadata": {},
   "outputs": [],
   "source": [
    "from newsplease import NewsPlease"
   ]
  },
  {
   "cell_type": "code",
   "execution_count": 3,
   "metadata": {},
   "outputs": [],
   "source": [
    "url = \"https://www.cnn.com/2024/01/09/politics/takeaways-from-the-appeals-court-hearing-on-donald-trumps-immunity-claims/index.html\"\n",
    "article = NewsPlease.from_url(url)"
   ]
  },
  {
   "cell_type": "code",
   "execution_count": 14,
   "metadata": {},
   "outputs": [
    {
     "name": "stdout",
     "output_type": "stream",
     "text": [
      "Takeaways from the appeals court hearing on Donald Trump’s immunity claims\n",
      "CNN —\n",
      "A federal appeals panel expressed deep skepticism Tuesday toward Donald Trump’s argument that he can’t be prosecuted for trying to overturn the 2020 election, raising the potentially extreme implications of absolute presidential immunity.\n",
      "Trump’s lawyers argued that his federal election subversion indictment should be dismissed because he is immune from prosecution. But the three judges on the US Court of Appeals for the District of Columbia Circuit panel questioned whether this immunity theory championed by Trump’s lawyers would allow presidents to sell pardons or even assassinate political opponents.\n",
      "Special counsel Jack Smith’s team argued that a president is not above the law, warning that allowing presidential immunity from prosecution would open a “floodgate” and saying that it would be “awfully scary” if there were no criminal mechanism to stop future president’s from usurping the vote and remaining in power.\n",
      "Still, the judges also wondered if they even have jurisdiction to decide the question of presidential immunity at this point in the case. Trump is scheduled to go on trial in March for his role in trying to overturn the 2020 election. He has pleaded not guilty.\n",
      "Trump chose to attend the hearing – a reminder of the role that his four criminal indictments are playing in his presidential campaign.\n",
      "The appeals court ruling is likely to set up a showdown over presidential immunity at the Supreme Court. The judges have not set a deadline but given the circumstances it’s unlikely they will take too much time.\n",
      "Here are the key takeaways from Tuesday’s oral arguments:\n",
      "Judges worry about scope and impact of Trump’s immunity argument\n",
      "The Circuit Court judges asked pointed questions of Trump attorney John Sauer over his claims that Trump has immunity because his actions after losing the 2020 election were part of his presidential duties. The judges also challenged him on his claim that Trump could only face criminal prosecution if he was first impeached and convicted by Congress for the same conduct.\n",
      "DC Circuit Court Judge Karen Henderson, an appointee of President George H.W. Bush, appeared dubious that Trump was acting within his official duties.\n",
      "“I think it is paradoxical to say that his constitutional duty to take care of the laws be faithfully executed allows him to violate criminal law,” Henderson said.\n",
      "Some of the judges pushed back on Trump’s immunity claims by highlighting the potentially dangerous path that it could lead to, with future presidents being able to brazenly break the law without consequences.\n",
      "This signaled their overall skepticism of Trump’s view, suggesting they are closer to where District Judge Tanya Chutkan landed – which was a strong rejection of Trump’s absolute immunity theory.\n",
      "Judge Florence Pan, a President Joe Biden nominee, posed some striking hypothetical questions to Sauer, to flesh out the bounds of his immunity argument. His legal theory claims former presidents are shielded from prosecution for official actions if there isn’t an impeachment and conviction by Congress first.\n",
      "“Could a president order SEAL Team Six to assassinate a political rival? That is an official act, an order to SEAL Team Six?” Pan asked.\n",
      "Video Ad Feedback Judge asks if a president can order SEAL Team 6 to assassinate a rival. Hear Trump's lawyer respond 01:47 - Source: CNN\n",
      "“He would have to be, and would speedily be impeached and convicted before the criminal prosecution,” Sauer said.\n",
      "“I asked you a yes or no question,” Pan said.\n",
      "“If he were impeached and convicted first,” Sauer replied, later insisting that the “political process” of impeachment “would have to occur” before any prosecution could be initiated.\n",
      "Pan also peppered Sauer with hypotheticals about whether his immunity theory would also apply to a president selling pardons to criminals or selling military secrets to an enemy state.\n",
      "Assistant special counsel James Pearce later picked up on the judges’ line of thinking.\n",
      "“It would be awfully scary if there weren’t some sort of mechanism” to indict future ex-presidents if they similarly tried to stay in power despite losing an election, Pearce said.\n",
      "Key debate over whether Trump’s impeachment prevents prosecution\n",
      "Trump’s attorney Sauer argued that a president can only be criminally charged and tried following a conviction for the alleged actions in the Senate. He had been acquitted by the Senate in February 2021.\n",
      "Pan questioned Sauer over his contention that impeachment and conviction by Congress was required for any criminal prosecution – while also pressing him to acknowledge that he was conceding that there is a path for presidents to face prosecution.\n",
      "“Once you concede that presidents can be prosecuted under some circumstances, your separation of powers argument falls away, and the issues before us are narrowed to are you correct in your interpretation of the impeachment judgment clause?” Pan said.\n",
      "The judge noted that many senators relied on the idea that it would be up to the Justice Department to handle an investigation into Trump’s actions following the 2020 election when they were considering whether to convict Trump following his impeachment.\n",
      "Sauer repeated at the end of Tuesday’s hearing that a former president could be prosecuted for “official acts” if they were first convicted by the Senate during impeachment proceedings.\n",
      "“Say the president was impeached and convicted on a charge of incitement of insurrection,” Pan asked, “then the government could bring a prosecution for the same or related conduct?”\n",
      "“Correct,” Sauer said.\n",
      "Trump lawyer says immunity keeps shut ‘Pandora’s box’ for indicting presidents\n",
      "Sauer painted a picture of what he called a dangerous “Pandora’s box” of indicting former presidents for actions they took while in office. He argued that special counsel Jack Smith’s decision to bring charges against Trump could lead to similar prosecutions.\n",
      "He warned that this case could theoretically lead to charges against Biden, Barack Obama or George W. Bush.\n",
      "“To authorize the prosecution of a president for his official acts would open up Pandora’s box from which this nation may never recover,” Sauer said.\n",
      "If the judges rule against absolute presidential immunity, Sauer said, “It would authorize, for example, the indictment of President Biden in the Western District of Texas after he leaves office for mismanaging the border, allegedly.”\n",
      "Taking the hypotheticals even farther, Sauer looked back to history, and raised the possibility of past presidents being charged for some of their most controversial official actions.\n",
      "“Could George W. Bush be prosecuted for obstruction of an official proceeding for allegedly giving false information to Congress, to induce the nation to go to war in Iraq under false pretenses? … Could President Obama be potentially charged for murder for allegedly authorizing drone strikes targeting US citizens located abroad?”\n",
      "Video Ad Feedback CNN reporter describes Trump's demeanor during his presidential immunity hearing 02:25 - Source: CNN\n",
      "Questions over jurisdiction – can this court even rule on the issue now?\n",
      "Before the judges got to the meat of Trump’s arguments Tuesday morning, they pressed his attorney on whether they should even be reviewing his immunity claims before his trial concludes.\n",
      "“Before you get started, can I just get a couple of things on the record? Our jurisdiction was challenged by an amicus. But from your reply brief you are not questioning (our decision to review the immunity claims),” Henderson asked Sauer, referring to a friend-of-the-court brief filed by the watchdog group American Oversight.\n",
      "The group argued the appellate court doesn’t have the authority to take up Trump’s immunity appeal before trial. The group says that unless there is an explicit constitutional or statutory guarantee cited that would stop a trial from occurring, the issue should be left for appeal after the trial.\n",
      "The argument offers a potential offramp for the appeals court to sidestep the immunity issue for now. The fact that the judges brought up the issue suggests they could have an interest in going that route. But if they did and Trump was convicted, the issue would likely be back before them in due time.\n",
      "Not only does Trump’s attorney think the appeals court has the authority to hear the immunity dispute right now, the special counsel’s team also believes the intermediate court can review the matter before Trump’s trial concludes.\n",
      "“It is our view that the court has and should entertain both claims before it,” Pearce told the judges on Tuesday before launching into his arguments against Trump’s immunity claims.\n",
      "The special counsel’s office had already tried to skip the appeals court and ask the Supreme Court to take up the issue, but the justices rejected that proposal.\n",
      "Trump is seen but not heard in court\n",
      "Trump attended Tuesday’s hearing, though he was not seen as he entered and exited the Washington, DC, courtroom, where cameras were barred but audio of the proceeding was broadcast.\n",
      "Trump was seated at the defense table roughly 20 feet away from Smith, who also attended Tuesday’s hearing. While the special counsel’s argument was ongoing, Trump was taking notes and passing them to Sauer.\n",
      "The former president chose to attend Tuesday’s hearing even as the Iowa caucuses are less than a week away – a decision that underscores both Trump’s comfortable lead in the Iowa polls as well as how attacking the criminal prosecutions against him has become a lynchpin of Trump’s campaign strategy.\n",
      "Trump will head to Iowa on Wednesday for a Fox News town hall, but he will then return to New York on Thursday so he can watch the closing arguments in his civil fraud trial, where the New York attorney general is seeking to collect $370 million in damages and to bar Trump from doing business in the state.\n",
      "After the hearing, Trump went to the site of his former Washington, DC, hotel to speak on camera.\n",
      "“I feel that as a president, you have to have immunity, very simple,” Trump said.\n",
      "CNN’s Hannah Rabinowitz, Holmes Lybrand, Katelyn Polantz and Evan Perez contributed to this report.\n"
     ]
    }
   ],
   "source": [
    "input = article.title + \"\\n\" + article.maintext\n",
    "print(input)"
   ]
  },
  {
   "cell_type": "markdown",
   "metadata": {},
   "source": [
    "https://www.cnn.com/2024/01/09/politics/takeaways-from-the-appeals-court-hearing-on-donald-trumps-immunity-claims/index.html\n",
    "summary =  7.525 s\n",
    "categories politics = 0.520 s\n",
    "subcategories Elections, Politics Scandals, Civil Right, International Relations, Legislation = 1.352s\n",
    "\n",
    "categories_all_text politics = 2.064 s\n",
    "subcategoreis_all_text elections & civil rights & legislation =  5.197 s"
   ]
  },
  {
   "cell_type": "markdown",
   "metadata": {},
   "source": [
    "Elections, International Relations, Policy Reforms, Legislation\", Civil Right, Defence And Security, Local Governance, Politics Scandals, Public Opinion, Others"
   ]
  }
 ],
 "metadata": {
  "kernelspec": {
   "display_name": "Python 3.11.4 64-bit",
   "language": "python",
   "name": "python3"
  },
  "language_info": {
   "codemirror_mode": {
    "name": "ipython",
    "version": 3
   },
   "file_extension": ".py",
   "mimetype": "text/x-python",
   "name": "python",
   "nbconvert_exporter": "python",
   "pygments_lexer": "ipython3",
   "version": "3.11.4"
  },
  "orig_nbformat": 4,
  "vscode": {
   "interpreter": {
    "hash": "e0460f6db6993a86a65738508dba0aca00af9523ba4143ef22f5162384401bb1"
   }
  }
 },
 "nbformat": 4,
 "nbformat_minor": 2
}
